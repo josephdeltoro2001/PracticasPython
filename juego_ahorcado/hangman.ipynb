{
  "cells": [
    {
      "cell_type": "markdown",
      "metadata": {
        "id": "tnenkBxBFqXh"
      },
      "source": [
        "# HANGMAN - AHORCADO"
      ]
    },
    {
      "cell_type": "markdown",
      "metadata": {
        "id": "T5q1nSyAFzPq"
      },
      "source": [
        "1. PEDIR LA PALABRA (MAQUINA ESCOJA LA PALABRA)\n",
        "2. INGRESAR LETRA\n",
        "3. SI ACIERTA SE COMPLETA UN ESPACIO O TIENE UN ACIERTO\n",
        "4. SI SE EQUIVOCA PIERDE UNA VIDA\n",
        "5. SI ACIERTA TODAS LAS LETRAS GANA"
      ]
    },
    {
      "cell_type": "code",
      "execution_count": 4,
      "metadata": {},
      "outputs": [
        {
          "name": "stdout",
          "output_type": "stream",
          "text": [
            "Disclaimer: This code does not apper in the game:  PENITENT\n",
            "\n",
            "Current word:  _ _ _ _ _ _ _ _\n"
          ]
        },
        {
          "name": "stdout",
          "output_type": "stream",
          "text": [
            "\n",
            "Current word:  _ E _ _ _ E _ _\n",
            "\n",
            "Current word:  _ E _ I _ E _ _\n",
            "\n",
            "Current word:  _ E _ I T E _ T\n",
            "\n",
            "Current word:  P E _ I T E _ T\n",
            "You win the word is 👉 PENITENT\n"
          ]
        }
      ],
      "source": [
        "import random\n",
        "from words import words\n",
        "\n",
        "# print(words[0:5])\n",
        "\n",
        "def get_valid_word(words):\n",
        "  word = random.choice(words)\n",
        "  return word.upper()\n",
        "\n",
        "get_valid_word(words[0:5])\n",
        "\n",
        "# letters = \"ABCDEFABCDABCD\"\n",
        "# print(set(letters))\n",
        "\n",
        "# letters_A = {'A', 'B', 'C', 'D', 'E'}\n",
        "# letters_B = {'A', 'B'}\n",
        "\n",
        "# print(letters_A - letters_B)\n",
        "\n",
        "import string\n",
        "\n",
        "def hangman():\n",
        "  word = get_valid_word(words)\n",
        "  print('Disclaimer: This code does not apper in the game: ', word)\n",
        "  # print('Your letter is:', '_ ' * len(word))\n",
        "  word_letters = set(word)\n",
        "  alphabet = set(string.ascii_uppercase)\n",
        "  used_letters = set()\n",
        "  lives = 6\n",
        "\n",
        "  while len(word_letters) > 0 and lives > 0:\n",
        "\n",
        "    # User's feedback\n",
        "    words_list = [letter if letter in used_letters else \"_\" for letter in word]\n",
        "    print('\\nCurrent word: ', ' '.join(words_list))\n",
        "\n",
        "    # for letter in word:\n",
        "    #   if letter in used_letters:\n",
        "    #     print(letter)\n",
        "    #   else:\n",
        "    #     print(\"_\")\n",
        "\n",
        "   # print(words_list)\n",
        "\n",
        "    user_letter = input(\"Guess a letter: \").upper()\n",
        "\n",
        "    if user_letter in alphabet - used_letters:\n",
        "      used_letters.add(user_letter)\n",
        "\n",
        "      if user_letter in word_letters:\n",
        "        word_letters.remove(user_letter)\n",
        "\n",
        "      else:\n",
        "        lives = lives - 1\n",
        "        print(\"You lose a live master chief!!! 😯👀\")\n",
        "\n",
        "    elif user_letter in used_letters:\n",
        "      print(\"The letter have been used, Please try again.\")\n",
        "\n",
        "    else:\n",
        "      print(\"Invalid character.\")\n",
        "\n",
        "   # print('Used letters:', used_letters)\n",
        "   # print('Word letters: ', word_letters)\n",
        "\n",
        "  if(lives == 0):\n",
        "    print(\"The word was:\", word, \"you are a lose with uppercase L 😂\")\n",
        "\n",
        "  print(\"You win the word is 👉\", word)\n",
        "\n",
        "hangman()"
      ]
    }
  ],
  "metadata": {
    "colab": {
      "provenance": []
    },
    "kernelspec": {
      "display_name": "Python 3",
      "name": "python3"
    },
    "language_info": {
      "codemirror_mode": {
        "name": "ipython",
        "version": 3
      },
      "file_extension": ".py",
      "mimetype": "text/x-python",
      "name": "python",
      "nbconvert_exporter": "python",
      "pygments_lexer": "ipython3",
      "version": "3.12.2"
    }
  },
  "nbformat": 4,
  "nbformat_minor": 0
}
