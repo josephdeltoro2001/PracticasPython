{
 "cells": [
  {
   "cell_type": "markdown",
   "metadata": {},
   "source": [
    "# **Tuplas**\n",
    "### 1. Definición\n",
    "Una *tupla* es una *colección **ordenada e inmutable*** de elementos. \n",
    "\n",
    "### 2. Declaración\n",
    "Esta puede ser de dos maneras:\n",
    "- Encerrando una secuencia de valores separados por comas entre ***paréntesis***:"
   ]
  },
  {
   "cell_type": "code",
   "execution_count": 1,
   "metadata": {},
   "outputs": [],
   "source": [
    "mi_tupla = (1, 2, 3, 'Hola', True)"
   ]
  },
  {
   "cell_type": "markdown",
   "metadata": {},
   "source": [
    "- Usando la función ***tuple()*** y pasando una secuencia como argumento:"
   ]
  },
  {
   "cell_type": "code",
   "execution_count": 2,
   "metadata": {},
   "outputs": [],
   "source": [
    "mi_tupla = tuple([1, 2, 3, 'hola', True])"
   ]
  },
  {
   "cell_type": "markdown",
   "metadata": {},
   "source": [
    "- Al crear una tupla de un **solo elemento**, debes incluir una ***coma*** después del ***valor***:"
   ]
  },
  {
   "cell_type": "code",
   "execution_count": 3,
   "metadata": {},
   "outputs": [],
   "source": [
    "mi_tupla = (42,)"
   ]
  },
  {
   "cell_type": "markdown",
   "metadata": {},
   "source": [
    "### 3. Acceso a elementos de una tupla\n",
    "Se accede a los elementos de una **tupla** mediante su ***índice***, igual que en las **listas**."
   ]
  },
  {
   "cell_type": "code",
   "execution_count": 4,
   "metadata": {},
   "outputs": [
    {
     "name": "stdout",
     "output_type": "stream",
     "text": [
      "42\n"
     ]
    }
   ],
   "source": [
    "print(mi_tupla[0])"
   ]
  },
  {
   "cell_type": "markdown",
   "metadata": {},
   "source": [
    "### 4. Operaciones con tuplas\n",
    "- **Concatenación:** Puedes unir dos o más tuplas usando el *operador **+***:"
   ]
  },
  {
   "cell_type": "code",
   "execution_count": 6,
   "metadata": {},
   "outputs": [
    {
     "name": "stdout",
     "output_type": "stream",
     "text": [
      "(1, 2, 3, 'a', 'b', 'c')\n"
     ]
    }
   ],
   "source": [
    "tupla1 = (1, 2, 3)\n",
    "tupla2 = ('a', 'b', 'c')\n",
    "tupla_concatenada = tupla1 + tupla2\n",
    "\n",
    "print(tupla_concatenada)"
   ]
  },
  {
   "cell_type": "markdown",
   "metadata": {},
   "source": [
    "- **Repetición:** Puedes repetir los elementos de una tupla usando el *operador* *:"
   ]
  },
  {
   "cell_type": "code",
   "execution_count": 7,
   "metadata": {},
   "outputs": [
    {
     "name": "stdout",
     "output_type": "stream",
     "text": [
      "(1, 2, 3, 1, 2, 3, 1, 2, 3)\n"
     ]
    }
   ],
   "source": [
    "mi_tupla = (1, 2, 3)\n",
    "tupla_repetida = mi_tupla * 3\n",
    "\n",
    "print(tupla_repetida)"
   ]
  },
  {
   "cell_type": "markdown",
   "metadata": {},
   "source": [
    "- **Membresía:** Puedes verificar si un elemento está presente en una tupla usando el *operador **in***:"
   ]
  },
  {
   "cell_type": "code",
   "execution_count": 8,
   "metadata": {},
   "outputs": [
    {
     "name": "stdout",
     "output_type": "stream",
     "text": [
      "True\n",
      "False\n"
     ]
    }
   ],
   "source": [
    "mi_tupla = (1, 2, 3, 'hola', True)\n",
    "print(2 in mi_tupla)\n",
    "print('mundo' in mi_tupla)"
   ]
  },
  {
   "cell_type": "markdown",
   "metadata": {},
   "source": [
    "### 5. Métodos de las tuplas\n",
    "Las tuplas tienen algunos **métodos útiles**:\n",
    "- **count(elemento):** Devuelve el número de veces que *aparece un **elemento** en la **tupla***."
   ]
  },
  {
   "cell_type": "code",
   "execution_count": 9,
   "metadata": {},
   "outputs": [
    {
     "name": "stdout",
     "output_type": "stream",
     "text": [
      "3\n"
     ]
    }
   ],
   "source": [
    "mi_tupla = (1, 2, 3, 2, 1, 2)\n",
    "print(mi_tupla.count(2)) "
   ]
  },
  {
   "cell_type": "markdown",
   "metadata": {},
   "source": [
    "- **index(elemento, [inicio, [fin]]):** Devuelve el **índice** de la *primera **aparición del elemento** en la **tupla***. Puedes especificar un **rango de búsqueda** opcional."
   ]
  },
  {
   "cell_type": "code",
   "execution_count": 10,
   "metadata": {},
   "outputs": [
    {
     "name": "stdout",
     "output_type": "stream",
     "text": [
      "1\n",
      "3\n"
     ]
    }
   ],
   "source": [
    "mi_tupla = (1, 2, 3, 2, 1, 2)\n",
    "print(mi_tupla.index(2))\n",
    "print(mi_tupla.index(2, 2)) "
   ]
  },
  {
   "cell_type": "markdown",
   "metadata": {},
   "source": [
    "### 6. Diferencias entre tuplas y listas\n",
    "Algunas *diferencias clave* entre **tuplas y listas**:\n",
    "- **Mutabilidad:** Las **listas** *son **mutables***, lo que significa que sus elementos pueden ser **modificados, agregados o eliminados**. Las **tuplas**, en cambio, ***son inmutables***.\n",
    "- **Sintaxis:** Las **listas** se definen usando *corchetes **[]***, mientras que las **tuplas** se definen usando *paréntesis **()***.\n",
    "- **Rendimiento:** Las **tuplas** son generalmente ***más rápidas y eficientes*** que las **listas**, ya que su *estructura es más **simple** y no requieren la gestión de memoria adicional* necesaria para las **listas mutables**.\n",
    "- **Uso:** Las **tuplas** se *utilizan comúnmente para representar **datos** que no deben ser **modificados**, como **coordenadas**, **pares clave-valor**, etc*. Las **listas** se *utilizan más para **almacenar datos** que pueden **cambiar** a lo largo del tiempo*."
   ]
  },
  {
   "cell_type": "markdown",
   "metadata": {},
   "source": [
    "### 7. Ejercicios\n",
    "- **Ejercicio 1:** Crear una tupla con tus comidas favoritas y mostrarlas en pantalla."
   ]
  },
  {
   "cell_type": "code",
   "execution_count": 11,
   "metadata": {},
   "outputs": [
    {
     "name": "stdout",
     "output_type": "stream",
     "text": [
      "('pizza', 'sushi', 'hamburguesa')\n"
     ]
    }
   ],
   "source": [
    "comidas = (\"pizza\", \"sushi\", \"hamburguesa\")\n",
    "print(comidas)"
   ]
  },
  {
   "cell_type": "markdown",
   "metadata": {},
   "source": [
    "- **Ejercicio 2:** Acceder al segundo elemento de la tupla de comidas e imprimirlo."
   ]
  },
  {
   "cell_type": "code",
   "execution_count": 12,
   "metadata": {},
   "outputs": [
    {
     "name": "stdout",
     "output_type": "stream",
     "text": [
      "sushi\n"
     ]
    }
   ],
   "source": [
    "print(comidas[1])"
   ]
  },
  {
   "cell_type": "markdown",
   "metadata": {},
   "source": [
    "- **Ejercicio 3:** Intentar modificar una tupla y capturar la excepción que se genera."
   ]
  },
  {
   "cell_type": "code",
   "execution_count": 13,
   "metadata": {},
   "outputs": [
    {
     "name": "stdout",
     "output_type": "stream",
     "text": [
      "Error: 'tuple' object does not support item assignment\n"
     ]
    }
   ],
   "source": [
    "try:\n",
    "    comidas[0] = \"pasta\"\n",
    "    \n",
    "except TypeError as e:\n",
    "    print(\"Error:\", e)"
   ]
  },
  {
   "cell_type": "markdown",
   "metadata": {},
   "source": [
    "- **Ejercicio 4:** Crear una tupla vacía y mostrarla en pantalla."
   ]
  },
  {
   "cell_type": "code",
   "execution_count": 14,
   "metadata": {},
   "outputs": [
    {
     "name": "stdout",
     "output_type": "stream",
     "text": [
      "()\n"
     ]
    }
   ],
   "source": [
    "tupla_vacia = ()\n",
    "print(tupla_vacia)"
   ]
  },
  {
   "cell_type": "markdown",
   "metadata": {},
   "source": [
    "- **Ejercicio 5:** Crear una tupla con un solo elemento y mostrarla en pantalla."
   ]
  },
  {
   "cell_type": "code",
   "execution_count": 15,
   "metadata": {},
   "outputs": [
    {
     "name": "stdout",
     "output_type": "stream",
     "text": [
      "(42,)\n"
     ]
    }
   ],
   "source": [
    "tupla_un_elemento = (42,)\n",
    "print(tupla_un_elemento)"
   ]
  },
  {
   "cell_type": "markdown",
   "metadata": {},
   "source": [
    "- **Ejercicio 6:** Concatenar dos tuplas y mostrar el resultado en pantalla.\n"
   ]
  },
  {
   "cell_type": "code",
   "execution_count": 16,
   "metadata": {},
   "outputs": [
    {
     "name": "stdout",
     "output_type": "stream",
     "text": [
      "(1, 2, 3, 2, 1, 2, 'pizza', 'sushi', 'hamburguesa')\n"
     ]
    }
   ],
   "source": [
    "tupla_concatenada = mi_tupla + comidas\n",
    "print(tupla_concatenada)"
   ]
  },
  {
   "cell_type": "markdown",
   "metadata": {},
   "source": [
    "- **Ejercicio 7:** Calcular la longitud de una tupla e imprimir el resultado.\n"
   ]
  },
  {
   "cell_type": "code",
   "execution_count": 17,
   "metadata": {},
   "outputs": [
    {
     "name": "stdout",
     "output_type": "stream",
     "text": [
      "6\n"
     ]
    }
   ],
   "source": [
    "print(len(mi_tupla))"
   ]
  },
  {
   "cell_type": "markdown",
   "metadata": {},
   "source": [
    "- **Ejercicio 8:** Eliminar una tupla completamente."
   ]
  },
  {
   "cell_type": "code",
   "execution_count": 19,
   "metadata": {},
   "outputs": [
    {
     "ename": "NameError",
     "evalue": "name 'mi_tupla' is not defined",
     "output_type": "error",
     "traceback": [
      "\u001b[1;31m---------------------------------------------------------------------------\u001b[0m",
      "\u001b[1;31mNameError\u001b[0m                                 Traceback (most recent call last)",
      "Cell \u001b[1;32mIn[19], line 1\u001b[0m\n\u001b[1;32m----> 1\u001b[0m \u001b[38;5;28;01mdel\u001b[39;00m \u001b[43mmi_tupla\u001b[49m\n\u001b[0;32m      2\u001b[0m \u001b[38;5;28mprint\u001b[39m(mi_tupla) \u001b[38;5;66;03m#Aparecera un error porque la tupla ya no existe\u001b[39;00m\n",
      "\u001b[1;31mNameError\u001b[0m: name 'mi_tupla' is not defined"
     ]
    }
   ],
   "source": [
    "del mi_tupla\n",
    "print(mi_tupla) #Aparecera un error porque la tupla ya no existe"
   ]
  },
  {
   "cell_type": "markdown",
   "metadata": {},
   "source": [
    "- **Ejercicio 9:** Iterar sobre una tupla e imprimir cada elemento en una línea."
   ]
  },
  {
   "cell_type": "code",
   "execution_count": 20,
   "metadata": {},
   "outputs": [
    {
     "name": "stdout",
     "output_type": "stream",
     "text": [
      "pizza\n",
      "sushi\n",
      "hamburguesa\n"
     ]
    }
   ],
   "source": [
    "for comida in comidas:\n",
    "    print(comida)"
   ]
  },
  {
   "cell_type": "markdown",
   "metadata": {},
   "source": [
    "- **Ejercicio 10:** Verificar si un elemento está presente en una tupla."
   ]
  },
  {
   "cell_type": "code",
   "execution_count": 21,
   "metadata": {},
   "outputs": [
    {
     "name": "stdout",
     "output_type": "stream",
     "text": [
      "True\n",
      "False\n"
     ]
    }
   ],
   "source": [
    "print(\"pizza\" in comidas)  \n",
    "print(\"ensalada\" in comidas) "
   ]
  }
 ],
 "metadata": {
  "kernelspec": {
   "display_name": "Python 3",
   "language": "python",
   "name": "python3"
  },
  "language_info": {
   "codemirror_mode": {
    "name": "ipython",
    "version": 3
   },
   "file_extension": ".py",
   "mimetype": "text/x-python",
   "name": "python",
   "nbconvert_exporter": "python",
   "pygments_lexer": "ipython3",
   "version": "3.12.2"
  }
 },
 "nbformat": 4,
 "nbformat_minor": 2
}
