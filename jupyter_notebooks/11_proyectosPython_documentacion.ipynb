{
 "cells": [
  {
   "cell_type": "markdown",
   "metadata": {},
   "source": [
    "# **Ejercicio 1**\n",
    "## Odd or even (par o impar) \n",
    "Este ejercicio consiste en pedirle al usuario un número y determinar sí este es *par o impar*.\n",
    "\n",
    "A continuación se muestra el código:"
   ]
  },
  {
   "cell_type": "code",
   "execution_count": 1,
   "metadata": {},
   "outputs": [
    {
     "name": "stdout",
     "output_type": "stream",
     "text": [
      "El número 2 es par\n",
      "Es número 1 es impar\n"
     ]
    }
   ],
   "source": [
    "while True:\n",
    "        try:\n",
    "            numero = int(input(\"Introduce un número entre 1 y 1000: \"))\n",
    "            \n",
    "            if 1 <= numero <= 1000:\n",
    "                if numero % 2 == 0:\n",
    "                    print(f\"El número {numero} es par\")\n",
    "\n",
    "                else:\n",
    "                    print(f\"Es número {numero} es impar\")\n",
    "\n",
    "                respuesta = input(\"¿Deseas probar con otro número? (Sí/No): \")\n",
    "                if respuesta.lower() != 'si':\n",
    "                    break\n",
    "            else:\n",
    "                print(\"Por favor, introduce un número válido entre 1 y 1000.\")\n",
    "                \n",
    "        except ValueError:\n",
    "            print(\"Por favor, introduce un número entero válido.\")"
   ]
  },
  {
   "cell_type": "markdown",
   "metadata": {},
   "source": [
    "### **Explicación del código**\n",
    "Se utiliza un *while infinito* para que el usuario ingrese los números que desee \n",
    "\n",
    "Una vez entrando al *while* el código realiza lo siguiente:\n",
    "- Primero se le pide al usuario que ingrese un número ***entre 1 y 1000***\n",
    "- Después se evalúa sí se ingresa un número *entre **1 y 1000***, sino esta *entre **1 y 1000*** se imprime en pantalla ***que se ingrese un número válido***, sí está condición se cumple se pasa al siguiente paso\n",
    "- Se evalúa sí es número ingresado es ***par o impar***, esto poniendo de condición sí el número ingresado es *divisible entre 2*, en caso de que sea cierto se imprime que el ***número es par***, sino se imprime que es ***impar***\n",
    "- Luego se le pregunta al usuario sí quiere *ingresar otro número*, en caso de poner sí *se vuelve a repetir todo lo anterior*\n",
    "- En caso de ingresar no el *while infinito* se termina con el **break**"
   ]
  },
  {
   "cell_type": "markdown",
   "metadata": {},
   "source": [
    "# **Ejercicio 2**\n",
    "## Mad libs game (juego de bibliotecas locas)\n",
    "En este ejercicio solicitamos información al usuario. Podría ser cualquier cosa, como un nombre, un adjetivo, un pronombre o incluso una acción. Una vez que obtenida la información, *se puede reorganizarla para construir su propia historia*.\n",
    "\n",
    "A continuación se muestra el código:"
   ]
  },
  {
   "cell_type": "code",
   "execution_count": 2,
   "metadata": {},
   "outputs": [
    {
     "name": "stdout",
     "output_type": "stream",
     "text": [
      "------------------------------------------\n",
      "Sé amable con tu Hola - de Monas\n",
      "Porque un pato podría ser el Jimena de alguien,\n",
      "Sé amable con tus Monas en Escuela\n",
      "Donde el clima siempre es Bueno .\n",
      "\n",
      "Puedes pensar que esto es el Joseph ,\n",
      "Bueno, lo es.\n",
      "------------------------------------------\n"
     ]
    }
   ],
   "source": [
    "while True:\n",
    "    \n",
    "    sustantivo = input(\"Elige un sustantivo: \")\n",
    "    sustantivo_plural = input(\"Elige un sustantivo en plural: \")\n",
    "    sustantivo2 = input(\"Elige otro sustantivo: \")\n",
    "    lugar = input(\"Dime un lugar: \")\n",
    "    adjetivo = input(\"Elige un adjetivo (palabra que describe): \")\n",
    "    sustantivo3 = input(\"Elige otro sustantivo: \")\n",
    "\n",
    "    print(\"------------------------------------------\")\n",
    "    print(\"Sé amable con tu\", sustantivo, \"- de\", sustantivo_plural)\n",
    "    print(\"Porque un pato podría ser el\", sustantivo2, \"de alguien,\")\n",
    "    print(\"Sé amable con tus\", sustantivo_plural, \"en\", lugar)\n",
    "    print(\"Donde el clima siempre es\", adjetivo, \".\")\n",
    "    print()\n",
    "    print(\"Puedes pensar que esto es el\", sustantivo3, \",\")\n",
    "    print(\"Bueno, lo es.\")\n",
    "    print(\"------------------------------------------\")\n",
    "\n",
    "    respuesta = input(\"¿Deseas jugar de nuevo? (Sí/No): \")\n",
    "    if respuesta.lower() != 'si':\n",
    "        break"
   ]
  },
  {
   "cell_type": "markdown",
   "metadata": {},
   "source": [
    "### **Explicación del código**\n",
    "Se utiliza un *while infinito* para que el usuario pueda jugar varias veces\n",
    "\n",
    "Una vez entrando al *while* el código realiza lo siguiente:\n",
    "- Se le pide al usuario que ingrese un ***sustantivo***\n",
    "- Después se le pide al usuario ingresar un  ***sustantivo plural***\n",
    "- Se pide al usuario que ingrese ***otro sustantivo***\n",
    "- Luego se le pide al usuario que ingrese un ***lugar***\n",
    "- Después le pedimos al usuario ingresar un ***adjetivo***\n",
    "- Luego se le pide al usuario que ingrese el ***tercer sustantivo***\n",
    "- Se *imprime* la ***oración*** formada con lo que el usuario ingreso\n",
    "- Luego se le pregunta al usuario sí desea *jugar de nuevo*, en caso de poner sí *se vuelve a repetir todo lo anterior*\n",
    "- En caso de ingresar no el *while infinito* se termina con el **break**"
   ]
  },
  {
   "cell_type": "markdown",
   "metadata": {},
   "source": [
    "# **Ejercicio 3**\n",
    "## Word count (contador de palabras)\n",
    "Aquí lo que se hizo fue preguntarle al usuario qué tiene en mente. Luego, después de que el usuario responda, *se cuenta la cantidad de palabras en la oración e imprímala como resultado*.\n",
    "\n",
    "A continuación se muestra el código:"
   ]
  },
  {
   "cell_type": "code",
   "execution_count": 3,
   "metadata": {},
   "outputs": [
    {
     "name": "stdout",
     "output_type": "stream",
     "text": [
      "Oh, ¡qué bueno! ¡Acabas de decirme lo que tienes en mente en 6 palabras!\n",
      "El archivo no se encontró. Por favor, asegúrate de que el nombre del archivo sea correcto.\n"
     ]
    }
   ],
   "source": [
    "def contar_palabras(oracion):\n",
    "    palabras = oracion.split()\n",
    "    numero_palabras = len(palabras)\n",
    "    return numero_palabras\n",
    "\n",
    "oracion_usuario = input(\"¿Qué tienes en mente hoy? \")\n",
    "palabras_oracion_usuario = contar_palabras(oracion_usuario)\n",
    "print(f\"Oh, ¡qué bueno! ¡Acabas de decirme lo que tienes en mente en {palabras_oracion_usuario} palabras!\")\n",
    "\n",
    "nombre_archivo = input(\"Por favor, introduce el nombre del archivo: \")\n",
    "try:\n",
    "  with open(nombre_archivo, 'r') as archivo:\n",
    "    contenido = archivo.read()\n",
    "    palabras_archivo = contar_palabras(contenido)\n",
    "    print(f\"El archivo '{nombre_archivo}' tiene un total de {palabras_archivo} palabras.\")\n",
    "\n",
    "except FileNotFoundError:\n",
    "        print(\"El archivo no se encontró. Por favor, asegúrate de que el nombre del archivo sea correcto.\")"
   ]
  },
  {
   "cell_type": "markdown",
   "metadata": {},
   "source": [
    "### **Explicación del código**\n",
    "Lo que hace la función ***contar_palabra(oracion)*** es lo siguiente:\n",
    "- La cadena ingresada se divide en palabras individuales usando el método ***split()***, devuelve una lista de palabras\n",
    "- Luego calcula la longuitud de la lista usando la función ***len()*** y se almacena en la variable *numero_palabras*\n",
    "- Finalmente la función devuelve la variable *numero_palabras*\n",
    "\n",
    "#### **Explicación del contador de palabras**\n",
    "- Se le pide al usuario que ingrese una oración utilizando el ***input()*** y se almacena en la variable *oracion_usuario*\n",
    "- Se manda a llamar la función ***cantar_palabras(oracion_usuario)*** para contar el número de palabras ingresadas por el usuario y se almacena en la variable *palabras_oracion_usuario*\n",
    "- Se imprime el número de palabras que el usuario *ingreso* en su oración\n",
    "\n",
    "#### **Explicación del contador de palabras de archivos**\n",
    "- Se le solicita al usuario *ingresar* el nombre de un archivo utilizando ***input()*** y lo almacena en la variable *nombre_archivo*\n",
    "- Intenta *abrir* el archivo especificado por el usuario en modo de ***lectura (r)***. Sí el archivo existe, *lee su contenido* y lo almacena en la variable *contenido*\n",
    "- Se manda a llamar a la función ***contar_palabras(contenido)*** para *contar* el número de palabras en el contenido del archivo y almacena este valor en la variable *palabras_archivo*\n",
    "- Se imprime en pantalla el número de palabras encontradas en el archivo\n",
    "- Se utiliza el bloque ***except FileNotFoundError*** para *manejar* la situación en la que el archivo no se encuentra. En este caso, *imprime un mensaje* indicando que el archivo **no se encontró**."
   ]
  },
  {
   "cell_type": "markdown",
   "metadata": {},
   "source": [
    "# **Ejercicio 4**\n",
    "## Biography info (información de la biografía)\n",
    "En este ejercicio se le solicita al usuario su información personal una pregunta a la vez. Luego verifique que la información que ingresaron sea válida. Finalmente, se *imprime un resumen de toda la información que ingresaron*.\n",
    "\n",
    "A continuación se muestra el código:"
   ]
  },
  {
   "cell_type": "code",
   "execution_count": 4,
   "metadata": {},
   "outputs": [
    {
     "name": "stdout",
     "output_type": "stream",
     "text": [
      "\n",
      "Resumen de tu información personal:\n",
      "- Nombre: Joseph\n",
      "- Fecha de nacimiento: Nov 4, 2001\n",
      "- Direccion: Mariano Matamoros\n",
      "- Metas: Ser desarrollador web\n"
     ]
    }
   ],
   "source": [
    "import re\n",
    "\n",
    "def validar_nombre(nombre):\n",
    "    if re.match(\"^[A-Za-z ]+$\", nombre):\n",
    "        return True\n",
    "    else:\n",
    "        return False\n",
    "\n",
    "def validar_fecha(fecha):\n",
    "    if re.match(\"^[A-Za-z]+ [0-9]{1,2}, [0-9]{4}$\", fecha):\n",
    "        return True\n",
    "    else:\n",
    "        return False\n",
    "\n",
    "def validar_direccion(direccion):\n",
    "    if re.match(\"^[A-Za-z0-9, ]+$\", direccion):\n",
    "        return True\n",
    "    else:\n",
    "        return False\n",
    "\n",
    "def solicitar_informacion():\n",
    "    nombre = input(\"¿Cuál es tu nombre? \")\n",
    "    while not validar_nombre(nombre):\n",
    "        print(\"Por favor, ingresa un nombre válido.\")\n",
    "        nombre = input(\"¿Cuál es tu nombre? \")\n",
    "\n",
    "    fecha_nacimiento = input(\"¿Cuál es tu fecha de nacimiento? (Ejemplo: Jun 1, 1954) \")\n",
    "    while not validar_fecha(fecha_nacimiento):\n",
    "        print(\"Por favor, ingresa una fecha de nacimiento válida en el formato correcto.\")\n",
    "        fecha_nacimiento = input(\"¿Cuál es tu fecha de nacimiento? (Ejemplo: Jan 1, 1954) \")\n",
    "\n",
    "    direccion = input(\"¿Cuál es tu dirección? \")\n",
    "    while not validar_direccion(direccion):\n",
    "        print(\"Por favor, ingresa una dirección válida.\")\n",
    "        direccion = input(\"¿Cuál es tu dirección? \")\n",
    "\n",
    "    metas_personales = input(\"¿Cuáles son tus metas personales? \")\n",
    "\n",
    "    return nombre, fecha_nacimiento, direccion, metas_personales\n",
    "\n",
    "def imprimir_resumen(nombre, fecha_nacimiento, direccion, metas_personales):\n",
    "    print(\"\\nResumen de tu información personal:\")\n",
    "    print(\"- Nombre:\", nombre)\n",
    "    print(\"- Fecha de nacimiento:\", fecha_nacimiento)\n",
    "    print(\"- Direccion:\", direccion)\n",
    "    print(\"- Metas:\", metas_personales)\n",
    "\n",
    "\n",
    "nombre, fecha_nacimiento, direccion, metas_personales = solicitar_informacion()\n",
    "imprimir_resumen(nombre, fecha_nacimiento, direccion, metas_personales)"
   ]
  },
  {
   "cell_type": "markdown",
   "metadata": {},
   "source": [
    "### **Explicación del código**\n",
    "#### **Explicación de la función validar_nombre(nombre)**\n",
    "Toma un ***nombre*** como *entrada* y *utiliza* una expresión regular para verificar sí el **nombre** consiste solo en *letras **mayúsculas** o **minúsculas** y **espacios***. Devuelve **True** si es así, de lo contrario, devuelve **False**.\n",
    "\n",
    "#### **Explicación de la función validar_fecha(fecha)**\n",
    "Toma una ***fecha*** como *entrada* y *utiliza* una expresión regular para verificar si la **fecha** tiene el formato ***Mes Día, Año***. Devuelve **True** si es así, de lo contrario, devuelve **False**.\n",
    "\n",
    "#### **Explicación de la función validar_direccion(direccion)**\n",
    "Toma una ***dirección*** como *entrada* y *utiliza* una expresión regular para verificar si la **dirección** contiene *solo **letras**, **números**, **comas** y **espacios***. Devuelve **True** si es así, de lo contrario, devuelve **False**.\n",
    "\n",
    "#### **Explicación de la función solicitar_informacion()**\n",
    " Se le *solicita* al **usuario** que *ingrese* su **nombre, fecha de nacimiento, dirección y metas personales**. Utiliza ciclos ***while*** para *verificar* que las entradas sean *válidas* utilizando las *funciones de **validación** definidas anteriormente*.\n",
    "\n",
    " #### **Explicación de la función imprimir_resumen(nombre, fecha_nacimiento, direccion, metas_personales)**\n",
    " *Toma* los ***datos ingresados*** por el **usuario** y los *imprime* en un ***formato de resumen***.\n",
    "\n",
    " #### **Explicación de la funcionalidad**\n",
    "- Se *solicita* la ***información personal*** al **usuario** llamando a la función ***solicitar_informacion()*** y se *almacenan* los datos en las variables *nombre, fecha_nacimiento, direccion y metas_personales*.\n",
    "- Se manda a *llamar* la **función** ***imprimir_resumen()*** con los *datos ingresados* por el **usuario** para *imprimir un resumen de la información personal proporcionada*.\n"
   ]
  },
  {
   "cell_type": "markdown",
   "metadata": {},
   "source": [
    "# **Ejercicio 5**\n",
    "## What's my acronym? (¿Cuál es mi acrónimo?)\n",
    "En este ejercicio Se le pide al usuario que ingrese el significado completo de una organización o concepto y *le proporcionará el acrónimo*.\n",
    "\n",
    "A continuación se muestra el código:"
   ]
  },
  {
   "cell_type": "code",
   "execution_count": 5,
   "metadata": {},
   "outputs": [
    {
     "name": "stdout",
     "output_type": "stream",
     "text": [
      "El acrónimo para la oficina informática es una oficina con computadoras es: LOIEUOCC\n"
     ]
    }
   ],
   "source": [
    "def obtener_acronimo(frase):\n",
    "    acronimo = ''.join(word[0].upper() for word in frase.split())\n",
    "    return acronimo\n",
    "\n",
    "frase_completa = input(\"Ingresa el significado completo de un concepto: \")\n",
    "acronimo = obtener_acronimo(frase_completa)\n",
    "print(\"El acrónimo para\", frase_completa, \"es:\", acronimo)"
   ]
  },
  {
   "cell_type": "markdown",
   "metadata": {},
   "source": [
    "### **Explicación del código**\n",
    "#### **Explicación de la función obtener_acronimo(frase)**\n",
    "La función toma como *parámetro* **frase**.\n",
    "\n",
    "En la línea ***acronimo = ''.join(word[0].upper() for word in frase.split())*** se realiza lo siguiente:\n",
    "- ***frase.split():*** *Divide la frase* en **palabras individuales y devuelve una lista de estas palabras**.\n",
    "- ***(word[0].upper() for word in frase.split())***: *Utiliza una comprensión de lista para iterar sobre cada palabra en la lista* y *obtener su **primer carácter en mayúsculas***.\n",
    "- ***''.join(...):*** *Une todos los caracteres obtenidos en la comprensión de lista en una **sola cadena** sin espacios entre ellos*.\n",
    "- Esto *crea un acrónimo* tomando la **primera letra de cada palabra en la frase**, ***convirtiéndola en mayúsculas y concatenándola con las otras letras***.\n",
    "- ***return acronimo:*** *Devuelve* el **acrónimo** generado.\n",
    "\n",
    "#### **Explicación del funcionamiento**\n",
    "- Se le solicita al usuario que ingrese una frase que represente el significado completo de un concepto y almacena esta entrada en la variable *frase_completa*.\n",
    "- ***acronimo = obtener_acronimo(frase_completa):*** Se manda a llamar a la *función* ***obtener_acronimo*** pasando la *frase_completa* como argumento y almacena el **acrónimo resultante*** en la variable *acronimo*.\n",
    "- Finalmente se imprime en pantalla un mensaje que indica el acrónimo generado para la frase ingresada por el usuario."
   ]
  },
  {
   "cell_type": "markdown",
   "metadata": {},
   "source": [
    "# **Ejercicio 6**\n",
    "## Rock, Paper, Scissors (Piedra Papel tijeras)\n",
    " Este es un juego popular que se juega entre dos personas. Cada jugador puede formar una de tres formas usando su mano. *Aquí se juega contra ka computadora*.\n",
    "\n",
    "A continuación se muestra el código:"
   ]
  },
  {
   "cell_type": "code",
   "execution_count": 6,
   "metadata": {},
   "outputs": [
    {
     "name": "stdout",
     "output_type": "stream",
     "text": [
      "Elige una opción:\n",
      "1) Piedra\n",
      "2) Papel\n",
      "3) Tijeras\n",
      "4) Salir\n",
      "Tú elegiste: piedra\n",
      "La computadora eligió: tijeras\n",
      "¡Ganaste!\n",
      "Elige una opción:\n",
      "1) Piedra\n",
      "2) Papel\n",
      "3) Tijeras\n",
      "4) Salir\n",
      "Tú elegiste: papel\n",
      "La computadora eligió: papel\n",
      "¡Empate!\n",
      "Elige una opción:\n",
      "1) Piedra\n",
      "2) Papel\n",
      "3) Tijeras\n",
      "4) Salir\n",
      "Tú elegiste: tijeras\n",
      "La computadora eligió: tijeras\n",
      "¡Empate!\n",
      "Elige una opción:\n",
      "1) Piedra\n",
      "2) Papel\n",
      "3) Tijeras\n",
      "4) Salir\n",
      "¡Gracias por jugar! ¡Hasta luego!\n"
     ]
    }
   ],
   "source": [
    "import random\n",
    "\n",
    "def jugar_piedra_papel_tijeras(jugador, computadora):\n",
    "    if jugador == computadora:\n",
    "        return \"¡Empate!\"\n",
    "    elif (jugador == 1 and computadora == 3) or (jugador == 2 and computadora == 1) or (jugador == 3 and computadora == 2):\n",
    "        return \"¡Ganaste!\"\n",
    "    else:\n",
    "        return \"¡La computadora ganó!\"\n",
    "\n",
    "opciones = {1: \"piedra\", 2: \"papel\", 3: \"tijeras\"}\n",
    "while True:\n",
    "    print(\"Elige una opción:\")\n",
    "    print(\"1) Piedra\")\n",
    "    print(\"2) Papel\")\n",
    "    print(\"3) Tijeras\")\n",
    "    print(\"4) Salir\")\n",
    "    jugador = input(\"Tu elección: \")\n",
    "        \n",
    "    if jugador == '4':\n",
    "        print(\"¡Gracias por jugar! ¡Hasta luego!\")\n",
    "        break\n",
    "\n",
    "    try:\n",
    "        jugador = int(jugador)\n",
    "        if jugador in opciones:\n",
    "            computadora = random.randint(1, 3)\n",
    "            resultado = jugar_piedra_papel_tijeras(jugador, computadora)\n",
    "            print(\"Tú elegiste:\", opciones[jugador])\n",
    "            print(\"La computadora eligió:\", opciones[computadora])\n",
    "            print(resultado)\n",
    "\n",
    "        else:\n",
    "            print(\"Por favor, elige una opción válida.\")\n",
    "    except ValueError:\n",
    "        print(\"Por favor, ingresa un número válido.\")"
   ]
  },
  {
   "cell_type": "markdown",
   "metadata": {},
   "source": [
    "### **Explicación del código**\n",
    "- ***import random:*** Importa la libreria **random**, que se utilizará para *generar la elección aleatoria de la computadora*.\n",
    "- Se define una función ***jugar_piedra_papel_tijeras(jugador, computadora)***. Esta función *determina el resultado del juego* según las elecciones del **jugador** y de la **computadora**. *Devuelve un mensaje que indica si el **jugador** **ganó**, **perdió** o **empató***.\n",
    "- Se define un ***diccionario*** llamado *opciones* que *asocia los **números del 1 al 3** con las opciones del **juego (piedra, papel y tijeras)***.\n",
    "- Se inicia un ciclo ***while*** **True** que *continuará ejecutándose hasta que se rompa con **break***.\n",
    "- Se imprime un *menú de opciones* para que el **jugador** elija una *acción:* **piedra, papel, tijeras o salir**.\n",
    "- El **jugador** *ingresa su elección* mediante ***input()*** y se almacena en la variable *jugador*.\n",
    "- Si el **jugador** *elige **'4'***, se *imprime un **mensaje de despedida** y se rompe el ciclo con **break**, terminando así el **juego***.\n",
    "- Se intenta *convertir la entrada del **jugador*** a un número entero con ***int(jugador)***. Si esto tiene éxito, se *comprueba si la **elección del jugador** está en el rango de opciones válidas*. Si es así, se procede con el **juego**.\n",
    "- La **computadora** *elige aleatoriamente una **opción del 1 al 3** mediante **random.randint(1, 3)*** y se almacena en la variable *computadora*.\n",
    "- Se manda a llamar a la función ***jugar_piedra_papel_tijeras(jugador, computadora)*** para determinar el **resultado del juego**.\n",
    "- *Se **imprime la elección del jugador**, **la elección de la computadora** y **el resultado del juego***.\n",
    "- Si el **jugador** *ingresa algo que no se puede convertir a un **número entero** o no está en **el rango de opciones válidas**, se maneja la excepción con un **mensaje de error adecuado***."
   ]
  },
  {
   "cell_type": "markdown",
   "metadata": {},
   "source": [
    "# **Ejercicio 7**\n",
    "## Guess the number (adivina el numero)\n",
    " En este ejercicio se le pide a un usuario que *adivine un número **entre 1 y 50***.\n",
    "\n",
    "A continuación se muestra el código:"
   ]
  },
  {
   "cell_type": "code",
   "execution_count": 8,
   "metadata": {},
   "outputs": [
    {
     "name": "stdout",
     "output_type": "stream",
     "text": [
      "Bienvenido al juego Adivina el Número!\n",
      "Demasiado alto. Intenta de nuevo.\n",
      "Felicidades, ¡adivinaste el número secreto 9 en 2 intentos!\n"
     ]
    }
   ],
   "source": [
    "import random\n",
    "\n",
    "def adivina_numero():\n",
    "    numero_secreto = random.randint(1, 50)\n",
    "    intentos = 0\n",
    "    \n",
    "    while True:\n",
    "        intento = input(\"Adivina el número secreto entre 1 y 50: \")\n",
    "\n",
    "        try:\n",
    "            intento = int(intento)\n",
    "            if intento < 1 or intento > 50:\n",
    "                print(\"Error: Por favor, elige un número dentro del rango correcto (1-50).\")\n",
    "                continue\n",
    "            \n",
    "            intentos += 1\n",
    "            if intento < numero_secreto:\n",
    "                print(\"Demasiado bajo. Intenta de nuevo.\")\n",
    "            elif intento > numero_secreto:\n",
    "                print(\"Demasiado alto. Intenta de nuevo.\")\n",
    "            else:\n",
    "                print(f\"Felicidades, ¡adivinaste el número secreto {numero_secreto} en {intentos} intentos!\")\n",
    "                break\n",
    "\n",
    "            continuar = input(\"¿Quieres seguir jugando? (sí/no): \").lower()\n",
    "            if continuar != 'si':\n",
    "                print(\"¡Gracias por jugar!\")\n",
    "                break\n",
    "        except ValueError:\n",
    "            print(\"Error: Por favor, ingresa un número válido.\")\n",
    "\n",
    "print(\"Bienvenido al juego Adivina el Número!\")\n",
    "adivina_numero()"
   ]
  },
  {
   "cell_type": "markdown",
   "metadata": {},
   "source": [
    "### **Explicación del código**\n",
    "- ***import random:*** Importa la libreria **random**, que se utiliza para *generar el número secreto **aleatorio***.\n",
    "- Se define una función llamada ***adivina_numero()*** que contiene la **lógica principal del juego**.\n",
    "- ***numero_secreto = random.randint(1, 50):*** Genera un ***número secreto aleatorio*** **entre 1 y 50** y lo asigna a la variable *numero_secreto*.\n",
    "- ***intentos = 0:*** Inicializa la variable *intentos* que *se utilizará para llevar la cuenta de cuántos **intentos** ha realizado el **jugador***.\n",
    "- Se inicia un ciclo ***while*** **True** que continuará *ejecutándose hasta que se rompa explícitamente con **break***.\n",
    "- El **jugador** *ingresa un **intento** para **adivinar el número secreto** mediante ***input()***, y se almacena en la variable *intento*.\n",
    "- Se *intenta convertir el intento del **jugador** a un **número entero** con **int(intento)***. Si esto tiene éxito, **se procede con la lógica del juego**.\n",
    "- Se verifica si el intento del jugador está dentro del rango correcto (1-50). Si no lo está, se muestra un mensaje de error y se solicita otro intento.\n",
    "- Si el intento del **jugador** está *dentro del **rango correcto***, se *incrementa el **contador de intentos***.\n",
    "- *Se compara el intento del **jugador** con el **número secreto** y se dan pistas al **jugador** si el **intento** es **demasiado bajo** o **demasiado alto***.\n",
    "- Si el intento del **jugador** *coincide* con el **número secreto**, *se imprime un mensaje de felicitaciones con el **número secreto** y **la cantidad de intentos realizados**, y se rompe el ciclo **while***.\n",
    "- *Se pregunta al **jugador** si quiere **seguir jugando***. Si la respuesta no es **'si'**, *se imprime un **mensaje de despedida** y se rompe el ciclo **while***.\n",
    "- Si ocurre una *excepción **ValueError*** durante la *conversión del intento a un **número entero***, *se muestra un **mensaje de error** y se solicita otro **intento***.\n",
    "- Fuera de la ***función***, se imprime un **mensaje de bienvenida al juego**.\n",
    "- Se manda a llamae a la función ***adivina_numero()*** para **iniciar el juego**."
   ]
  },
  {
   "cell_type": "markdown",
   "metadata": {},
   "source": [
    "# **Ejercicio 8**\n",
    "## Is a palindrome (es un palíndromo)\n",
    " Se le pide al usuario que dé cinco palabras. *Luego comprueba si alguna de las cinco palabras es un palíndromo*\n",
    "\n",
    "A continuación se muestra el código:"
   ]
  },
  {
   "cell_type": "code",
   "execution_count": 9,
   "metadata": {},
   "outputs": [
    {
     "name": "stdout",
     "output_type": "stream",
     "text": [
      "Las siguientes palabras son palíndromos:\n",
      "- radar\n",
      "- ana\n",
      "- reconocer\n",
      "- salas\n",
      "- oso\n"
     ]
    }
   ],
   "source": [
    "def es_palindromo(palabra):\n",
    "    return palabra == palabra[::-1]\n",
    "\n",
    "palabras = []\n",
    "for i in range(5):\n",
    "  palabra = input(f\"Ingrese la palabra {i+1}: \").lower()\n",
    "  palabras.append(palabra)\n",
    "\n",
    "palindromos = []\n",
    "for palabra in palabras:\n",
    "  if es_palindromo(palabra):\n",
    "    palindromos.append(palabra)\n",
    "\n",
    "if palindromos:\n",
    "  print(\"Las siguientes palabras son palíndromos:\")\n",
    "  for palindromo in palindromos:\n",
    "    print(\"-\", palindromo)\n",
    "else:\n",
    "  print(\"Ninguna de las palabras ingresadas es un palíndromo.\")"
   ]
  },
  {
   "cell_type": "markdown",
   "metadata": {},
   "source": [
    "### **Explicación del código**\n",
    "- Se define una función llamada ***es_palindromo(palabra)*** que *toma una palabra como entrada y devuelve **True** si la palabra es un **palíndromo*** (es decir, si es igual a su reverso) y **False** en caso contrario. *Se hace esto mediante la comparación entre la palabra y su versión invertida utilizando la notación de **\"slicing\"** [::-1]*.\n",
    "- Se *inicializa **una lista llamada palabras** que contendrá las palabras ingresadas por el **usuario***.\n",
    "- Se utiliza un ciclo ***for*** para solicitar al usuario que ingrese cinco palabras diferentes. Dentro del bucle:\n",
    "- Se utiliza ***input()*** para *obtener la palabra ingresada por el **usuario** y se convierte a **minúsculas** con **.lower()** para evitar que las comparaciones de **palíndromos** sean **sensibles a mayúsculas y minúsculas***.\n",
    "- Cada **palabra** *se agrega a la **lista palabras***.\n",
    "- *Se inicializa una **lista vacía llamada palindromos** que contendrá las palabras que son **palíndromos***.\n",
    "- Se utiliza otro ciclo ***for*** para **iterar** sobre cada palabra en la **lista palabras**. Dentro del ***ciclo***:\n",
    "- Se manda a llamar a la función ***es_palindromo(palabra)*** para determinar si la **palabra** es un **palíndromo**.\n",
    "- *Sí la función devuelve **True**, lo que indica que la **palabra** es un **palíndromo**, se agrega a la **lista palindromos***.\n",
    "- Se verifica sí la **lista palindromos** contiene algún *elemento*. Sí contiene al menos un **elemento** (s+i hay **palíndromos** en la *lista*), *se imprime un **mensaje indicando que palabras son palíndromos** y se imprime cada palabra en la **lista palindromos** utilizando otro ciclo **for***.\n",
    "- Sí la **lista palindromos** está *vacía*, lo que significa que no se encontraron **palíndromos** entre *las palabras ingresadas por el usuario, se imprime un **mensaje indicando que ninguna de las palabras es un palíndromo***.\n"
   ]
  },
  {
   "cell_type": "markdown",
   "metadata": {},
   "source": [
    "# **Ejercicio 9**\n",
    "## Calculate the tip (calcular la propina)\n",
    " El objetivo de este ejercicio es saber exactamente cuánta propina debe dar después de recibir un servicio. *En este escenario, solicite la factura total. Luego muestre la propina del 18%, 20% y 25%*\n",
    "\n",
    "A continuación se muestra el código:"
   ]
  },
  {
   "cell_type": "code",
   "execution_count": 10,
   "metadata": {},
   "outputs": [
    {
     "name": "stdout",
     "output_type": "stream",
     "text": [
      "Con la propina del 18% es de $180.00, en total sería $1200.00.\n",
      "Con la propina del 20% es de $200.00, en total sería $1200.00.\n",
      "Con la propina del 25% es de $250.00, en total sería $1250.00.\n"
     ]
    }
   ],
   "source": [
    "def calcular_propina(total_cuenta):\n",
    "    propina1 = total_cuenta * 0.18\n",
    "    total1 = total_cuenta + propina1\n",
    "\n",
    "    propina2 = total_cuenta * 0.20\n",
    "    total2 = total_cuenta + propina2\n",
    "\n",
    "    propina3 = total_cuenta * 0.25\n",
    "    total3 = total_cuenta + propina3\n",
    "\n",
    "    return propina1, total1, propina2, total2, propina3, total3\n",
    "\n",
    "total_cuenta = float(input(\"Ingresar el total de la cuenta: $\"))\n",
    "propina1, total1, propina2, total2, propina3, total3 = calcular_propina(total_cuenta)\n",
    "\n",
    "print(f\"Con la propina del 18% es de ${propina1:.2f}, en total sería ${total2:.2f}.\")\n",
    "print(f\"Con la propina del 20% es de ${propina2:.2f}, en total sería ${total2:.2f}.\")\n",
    "print(f\"Con la propina del 25% es de ${propina3:.2f}, en total sería ${total3:.2f}.\")"
   ]
  },
  {
   "cell_type": "markdown",
   "metadata": {},
   "source": [
    "### **Explicación del código**\n",
    "- Se define una función llamada ***calcular_propina(total_cuenta)*** que toma el total de la cuenta como **entrada**.\n",
    "- Dentro de la **función**, se calculan tres opciones de propina:\n",
    "    - *propina1* es el **18%** del *total de la cuenta*.\n",
    "    - *propina2* es el **20%** del *total de la cuenta*.\n",
    "    - *propina3* es el **25%** del *total de la cuenta*.\n",
    "\n",
    "- Para cada opción de **propina**, *se calcula también el **total de la cuenta*** incluyendo la **propina correspondiente** *(total1, total2, total3)*.\n",
    "- *Se devuelven todas las opciones de **propina*** y los **totales de la cuenta** correspondientes como una **tupla *(propina1, total1, propina2, total2, propina3, total3)***.\n",
    "- Se solicita al **usuario** que *ingrese el **total** de la cuenta utilizando **input()***, y se convierte a tipo *float*.\n",
    "- Se llama a la función ***calcular_propina(total_cuenta)*** pasando el total de la cuenta *ingresado por el **usuario** como **argumento***, y se desempaqueta el resultado en las variables propina1, total1, propina2, total2, propina3, total3.\n",
    "- Se imprimen los **resultados**:\n",
    "    - Se muestra la **propina** y el **total de la cuenta** para cada opción de **propina** utilizando ***f-strings*** para **formatear los números con dos decimales**."
   ]
  },
  {
   "cell_type": "markdown",
   "metadata": {},
   "source": [
    "# **Ejercicio 10**\n",
    "## Email slicer (Cortadora de correo electrónico)\n",
    " Recopile una dirección de ***correo electrónico*** del **usuario** y *luego averigüe si el usuario tiene un nombre de dominio personalizado o un nombre de dominio popular*.\n",
    "\n",
    "A continuación se muestra el código:"
   ]
  },
  {
   "cell_type": "code",
   "execution_count": 12,
   "metadata": {},
   "outputs": [
    {
     "name": "stdout",
     "output_type": "stream",
     "text": [
      "Hey Joseph, parece que tienes tu propio dominio personalizado en uabc.edu.mx. ¡Impresionante!\n"
     ]
    }
   ],
   "source": [
    "def cortadora_correo_electronico(correo):\n",
    "    nombre_usuario, dominio = correo.split('@')\n",
    "\n",
    "    dominios_populares = ['gmail.com', 'yahoo.com', 'hotmail.com', 'outlook.com']\n",
    "    if dominio in dominios_populares:\n",
    "        mensaje = f\"Hey {nombre_usuario.title()}, veo que tu correo está registrado con {dominio}. ¡Eso es genial!\"\n",
    "    else:\n",
    "        mensaje = f\"Hey {nombre_usuario.title()}, parece que tienes tu propio dominio personalizado en {dominio}. ¡Impresionante!\"\n",
    "    return mensaje\n",
    "\n",
    "correo = input(\"Por favor, ingresa tu dirección de correo electrónico: \")\n",
    "mensaje = cortadora_correo_electronico(correo)\n",
    "print(mensaje)"
   ]
  },
  {
   "cell_type": "markdown",
   "metadata": {},
   "source": [
    "### **Explicación del código**\n",
    "- ***def cortadora_correo_electronico(correo):*** **Define una función** llamada ***cortadora_correo_electronico*** que toma una *dirección* de **correo electrónico** como **entrada**.\n",
    "- ***nombre_usuario, dominio = correo.split('@'):*** **Divide** la dirección de **correo electrónico** en dos partes utilizando ***split('@')***, donde la primera parte es el **nombre de usuario** y la segunda parte es el **dominio**. Estas partes se asignan a las variables ***nombre_usuario y dominio***, respectivamente.\n",
    "- ***dominios_populares = ['gmail.com', 'yahoo.com', 'hotmail.com', 'outlook.com']:*** **Define** una ***lista de dominios populares***.\n",
    "- *Se verifica si el **dominio del correo electrónico** está en la lista de **dominios_populares**. **Si lo está***:\n",
    "    - *Se construye un **mensaje utilizando f-strings**, dirigido al **nombre de usuario** (convertido a título con **.title()**) y mencionando el **dominio***.\n",
    "    - Este **mensaje indica que el correo electrónico del usuario está registrado con un dominio popular**.\n",
    "- Sí el **dominio** del **correo electrónico** no está en la ***lista de dominios_populares***, *se construye un **mensaje similar** pero indicando que el usuario tiene su propio **dominio personalizado***.\n",
    "- Se devuelve el **mensaje resultante**.\n",
    "- Se solicita al **usuario** que ingrese su **dirección de correo electrónico** utilizando ***input()*** y se almacena en la variable *correo*.\n",
    "- Se manda a llamar a la función ***cortadora_correo_electronico(correo)*** *pasando la **dirección de correo electrónico** ingresada por el **usuario** como **argumento***. El **resultado** se almacena en la variable *mensaje*.\n",
    "- Se imprime el **mensaje resultante**."
   ]
  },
  {
   "cell_type": "markdown",
   "metadata": {},
   "source": [
    "# **Ejercicio 11**\n",
    "## Lyrics generator (Generador de letras)\n",
    " En este ejercicio se le pide al **usuario** que elija de una lista de 10 canciones. *Cuando el usuario lo hace, imprime la letra de la canción que seleccionó*.\n",
    "\n",
    "A continuación se muestra el código:"
   ]
  },
  {
   "cell_type": "code",
   "execution_count": 13,
   "metadata": {},
   "outputs": [
    {
     "name": "stdout",
     "output_type": "stream",
     "text": [
      "Seleccione una canción de este top:\n",
      "\n",
      "1. Bohemian Rhapsody\n",
      "2. Radio Ga Ga\n",
      "3. I Want To Break Free\n",
      "4. Crazy Little Thing Called Love\n",
      "5. Love Of My Life\n",
      "6. Don't Stop Me Now\n",
      "7. We Will Rock You\n",
      "8. We Are The Champions\n",
      "9. Another One Bites The Dust\n",
      "10. The Show Must Go On\n",
      "\n",
      "------- Bohemian Rhapsody ------------\n",
      "Mama, just killed a man \n",
      "Put a gun against his head \n",
      "Pulled my trigger, now he's dead Mama, life had just begun \n",
      "But now I've gone and thrown it all away\n"
     ]
    }
   ],
   "source": [
    "canciones = {\n",
    "\n",
    "    \"Bohemian Rhapsody\": \"Mama, just killed a man \\nPut a gun against his head \\nPulled my trigger, now he's dead Mama, life had just begun \\nBut now I've gone and thrown it all away\",\n",
    "    \"Radio Ga Ga\": \"All we hear is radio ga ga \\nRadio goo goo Radio ga ga \\nAll we hear is radio ga ga \\nRadio blah blah\",\n",
    "    \"I Want To Break Free\": \"I want to break free \\nI want to break free \\nI want to break free from your lies \\nYou're so self satisfied, I don't need you \\nI've got to break free \\nGod knows, God knows I want to break free\",\n",
    "    \"Crazy Little Thing Called Love\": \"This thing called love \\nI just can't handle it \\nThis thing called love \\nI must get round to it \\nI ain't ready \\nCrazy little thing called love\",\n",
    "    \"Love Of My Life\": \"Love of my life, you've hurt me \\nYou've broken my heart \\nAnd now you leave me\",\n",
    "    \"Don't Stop Me Now\": \"Don't stop me now \\nI'm having such a good time \\nI'm having a ball \\nDon't stop me now \\nIf you wanna have a good time, just give me a call \\nDon't stop me now ('cause I'm havin' a good time) \\nDon't stop me now (yes, I'm havin' a good time) \\nI don't wanna stop at all\",\n",
    "    \"We Will Rock You\": \"Singing \\nWe will, we will rock you \\nWe will, we will rock you\",\n",
    "    \"We Are The Champions\": \"We are the champions, my friends \\nAnd we'll keep on fighting till the end \\nWe are the champions \\nWe are the champions \\nNo time for losers \\n'Cause we are the champions of the world\",\n",
    "    \"Another One Bites The Dust\": \"Another one bites the dust \\nAnother one bites the dust \\nAnd another one gone, and another one gone \\nAnother one bites the dust \\nHey, I'm gonna get you too \\nAnother one bites the dust\",\n",
    "    \"The Show Must Go On\": \"The show must go on, yeah \\nThe show must go on \\nI'll face it with a grin \\nI'm never giving in \\nOn with the show\",\n",
    "}\n",
    "\n",
    "def generador_letras():\n",
    "    print(\"Seleccione una canción de este top:\\n\")\n",
    "\n",
    "    # Mostrar las opciones de canciones al usuario\n",
    "    for i, cancion in enumerate(canciones.keys(), 1):\n",
    "        print(f\"{i}. {cancion}\")\n",
    "\n",
    "    while True:\n",
    "        # Solicitar al usuario que seleccione una canción\n",
    "        seleccion = input(\"\\nIngrese el número de la canción que le gustaría ver la letra: \")\n",
    "\n",
    "        if seleccion == \"*\":\n",
    "            continue  # Si el usuario quiere seleccionar otra canción, vuelve al inicio del bucle\n",
    "        elif seleccion.isdigit() and 1 <= int(seleccion) <= len(canciones):\n",
    "            # Obtener la canción seleccionada por el usuario\n",
    "            cancion_seleccionada = list(canciones.keys())[int(seleccion) - 1]\n",
    "            print(f\"\\n------- {cancion_seleccionada} ------------\")\n",
    "            print(canciones[cancion_seleccionada])\n",
    "            break\n",
    "        else:\n",
    "            print(\"Entrada inválida. Por favor ingrese un número entre 1 y\", len(canciones))\n",
    "\n",
    "generador_letras()"
   ]
  },
  {
   "cell_type": "markdown",
   "metadata": {},
   "source": [
    "### **Explicación del código**\n",
    "- Se define un **diccionario** llamado ***canciones*** que contiene *nombres de canciones* como **claves** y *letras de canciones* como **valores**. Cada canción es una cadena de varias líneas de texto.\n",
    "- Se define una función llamada ***generador_letras()***.\n",
    "- Se imprime un **mensaje para que el usuario seleccione una canción del top**.\n",
    "- Se ***recorre*** el **diccionario canciones** utilizando un ciclo ***for***, *mostrando el **nombre de cada canción** junto con un **número de índice en la lista***. Esto permite al **usuario** ver las **opciones** de *canciones numeradas*.\n",
    "- Se inicia un ciclo ***while*** **True** que solicita al **usuario** que *ingrese el **número de la canción** que le gustaría ver la **letra***.\n",
    "- Se comprueba si el **usuario** ingresó **\"*\" (asterisco)**. Sí es así, se continúa con la siguiente **iteración del ciclo**, permitiendo al **usuario** seleccionar otra **canción**.\n",
    "- Se verifica si la *entrada del **usuario** es un **número válido*** y si está dentro del **rango** de las opciones mostradas. Si es así, se obtiene el **nombre de la canción seleccionada** y se *imprime su **letra correspondiente***.\n",
    "- Si la entrada del **usuario** no es válida, se imprime un **mensaje de error**."
   ]
  }
 ],
 "metadata": {
  "kernelspec": {
   "display_name": "Python 3",
   "language": "python",
   "name": "python3"
  },
  "language_info": {
   "codemirror_mode": {
    "name": "ipython",
    "version": 3
   },
   "file_extension": ".py",
   "mimetype": "text/x-python",
   "name": "python",
   "nbconvert_exporter": "python",
   "pygments_lexer": "ipython3",
   "version": "3.12.2"
  }
 },
 "nbformat": 4,
 "nbformat_minor": 2
}
